{
 "cells": [
  {
   "cell_type": "markdown",
   "id": "9be00b3e",
   "metadata": {},
   "source": [
    "## Filter to preserve only Greater Seattle Area addresses"
   ]
  },
  {
   "cell_type": "markdown",
   "id": "2a270843",
   "metadata": {},
   "source": [
    "Zipcodes: 980xx, 981xx, 982xx"
   ]
  },
  {
   "cell_type": "code",
   "execution_count": 1,
   "id": "f3cb3857",
   "metadata": {},
   "outputs": [],
   "source": [
    "import os\n",
    "import re"
   ]
  },
  {
   "cell_type": "code",
   "execution_count": 2,
   "id": "fef4e62a",
   "metadata": {},
   "outputs": [],
   "source": [
    "source_file = os.path.join(os.getcwd(),'king_county.geojson')\n",
    "target_file = os.path.join(os.getcwd(), 'greater_seattle.geojson')\n",
    "assert os.path.exists(source_file), f\"Source file {source_file} does not exist.\""
   ]
  },
  {
   "cell_type": "code",
   "execution_count": 3,
   "id": "d7a27504",
   "metadata": {},
   "outputs": [],
   "source": [
    "zipcode_chk = re.compile(r'\"postcode\"\\s*:\\s*\"(?:980|981|982)\\d{2}\"')\n",
    "nonecity_chk = re.compile(r'\"city\"\\s*:\\s*\"\"')\n",
    "valid_cnt = invalid_cnt = 0"
   ]
  },
  {
   "cell_type": "code",
   "execution_count": 4,
   "id": "f3af27db",
   "metadata": {},
   "outputs": [
    {
     "name": "stdout",
     "output_type": "stream",
     "text": [
      "Valid lines: 577004\n",
      "Invalid lines: 88831\n"
     ]
    }
   ],
   "source": [
    "with open(source_file, 'r') as infile, open(target_file, 'w') as outfile:\n",
    "    for line in infile:\n",
    "        if zipcode_chk.search(line) and not nonecity_chk.search(line):\n",
    "            outfile.write(line)\n",
    "            valid_cnt += 1\n",
    "        else:\n",
    "            invalid_cnt += 1\n",
    "\n",
    "print(f\"Valid lines: {valid_cnt}\")\n",
    "print(f\"Invalid lines: {invalid_cnt}\")"
   ]
  },
  {
   "cell_type": "code",
   "execution_count": null,
   "id": "7ae24cba",
   "metadata": {},
   "outputs": [],
   "source": []
  }
 ],
 "metadata": {
  "kernelspec": {
   "display_name": "math381",
   "language": "python",
   "name": "python3"
  },
  "language_info": {
   "codemirror_mode": {
    "name": "ipython",
    "version": 3
   },
   "file_extension": ".py",
   "mimetype": "text/x-python",
   "name": "python",
   "nbconvert_exporter": "python",
   "pygments_lexer": "ipython3",
   "version": "3.12.9"
  }
 },
 "nbformat": 4,
 "nbformat_minor": 5
}
