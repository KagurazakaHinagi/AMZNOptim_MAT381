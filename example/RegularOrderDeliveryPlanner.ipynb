{
 "cells": [
  {
   "cell_type": "markdown",
   "id": "940eaa1e",
   "metadata": {},
   "source": [
    "# Local Delivery Planner for Amazon Regular Orders"
   ]
  },
  {
   "cell_type": "markdown",
   "id": "06a7453b",
   "metadata": {},
   "source": [
    "A sample notebook for generating local delivery plans of Amazon Regular Orders\\\n",
    "(Multi-depot configuration is supportted)"
   ]
  },
  {
   "cell_type": "markdown",
   "id": "b51ea204",
   "metadata": {},
   "source": [
    "### Imports"
   ]
  },
  {
   "cell_type": "code",
   "execution_count": null,
   "id": "f62ad384",
   "metadata": {},
   "outputs": [],
   "source": [
    "import os\n",
    "import json\n",
    "import pandas as pd\n",
    "from amznoptim.utils import preprocess\n",
    "from amznoptim.solver.CpSAT import DepotVRPCpRegular"
   ]
  },
  {
   "cell_type": "markdown",
   "id": "39bfe512",
   "metadata": {},
   "source": [
    "### Input preparation"
   ]
  },
  {
   "cell_type": "code",
   "execution_count": null,
   "id": "e7443a34",
   "metadata": {},
   "outputs": [],
   "source": [
    "# Example order csv file\n",
    "order_csv = 'formatted_data/orders.csv'\n",
    "pd.read_csv(order_csv)"
   ]
  },
  {
   "cell_type": "code",
   "execution_count": null,
   "id": "51d353b9",
   "metadata": {},
   "outputs": [],
   "source": [
    "# Example depot info file\n",
    "depot_json = 'formatted_data/depot.json'\n",
    "with open(depot_json, 'r') as f:\n",
    "    depot_info = json.load(f)\n",
    "depot_info"
   ]
  },
  {
   "cell_type": "code",
   "execution_count": null,
   "id": "ceaa55c2",
   "metadata": {},
   "outputs": [],
   "source": [
    "# Example Google Map RouteMatrix json\n",
    "gmap_json = 'formatted_data/gmap_matrix.json'\n",
    "# Example vehicle config json\n",
    "vehicle_json = 'formatted_data/vehicle.json'"
   ]
  },
  {
   "cell_type": "markdown",
   "id": "5984d5d7",
   "metadata": {},
   "source": [
    "### Solver data processing"
   ]
  },
  {
   "cell_type": "code",
   "execution_count": null,
   "id": "d45c1b00",
   "metadata": {},
   "outputs": [],
   "source": [
    "# Preprocess the order data csv and extract order and address info\n",
    "order_info, address_info = preprocess.order_info_from_csv(\n",
    "    order_csv, '../sample_data/standard_box/boxsize.tsv'\n",
    ")\n",
    "order_info"
   ]
  },
  {
   "cell_type": "code",
   "execution_count": null,
   "id": "3e79397c",
   "metadata": {},
   "outputs": [],
   "source": [
    "# Define the solver and process the data\n",
    "solver = DepotVRPCpRegular(\n",
    "    order_data=order_info,\n",
    "    address_data=address_info,\n",
    "    depot_data=depot_info,\n",
    ")\n",
    "solver.process_data(\n",
    "    vehicle_data_path=vehicle_json,\n",
    "    matrix_json=gmap_json,\n",
    ")"
   ]
  },
  {
   "cell_type": "markdown",
   "id": "b93c61f2",
   "metadata": {},
   "source": [
    "### Execute the CP-SAT solver\n"
   ]
  },
  {
   "cell_type": "code",
   "execution_count": null,
   "id": "f6333db8",
   "metadata": {},
   "outputs": [],
   "source": [
    "result = solver.solve()\n",
    "result"
   ]
  },
  {
   "cell_type": "markdown",
   "id": "02505646",
   "metadata": {},
   "source": [
    "### Process result to human-readable format"
   ]
  },
  {
   "cell_type": "code",
   "execution_count": null,
   "id": "dc9b93b5",
   "metadata": {},
   "outputs": [],
   "source": [
    "result_readable = solver.generate_plan(result, save_path=None)\n",
    "result_readable"
   ]
  },
  {
   "cell_type": "markdown",
   "id": "ad022e59",
   "metadata": {},
   "source": [
    "### Alternative: Execute Gurobi MIP Solver"
   ]
  },
  {
   "cell_type": "code",
   "execution_count": null,
   "id": "37c64996",
   "metadata": {},
   "outputs": [],
   "source": [
    "from amznoptim.solver.GurobiMIP import DepotVRPGurobiRegular\n",
    "\n",
    "# Define the Gurobi solver and process the data\n",
    "solver_gurobi = DepotVRPGurobiRegular(\n",
    "    order_data=order_info,\n",
    "    address_data=address_info,\n",
    "    depot_data=depot_info,\n",
    ")\n",
    "solver_gurobi.process_data(\n",
    "    vehicle_data_path=vehicle_json,\n",
    "    matrix_json=gmap_json,\n",
    ")\n",
    "\n",
    "# Optional: use your own Gurobi WSL license file\n",
    "# solver_gurobi.use_licensed_environment('path/to/your/gurobi.lic')"
   ]
  },
  {
   "cell_type": "code",
   "execution_count": null,
   "id": "c2510b5f",
   "metadata": {},
   "outputs": [],
   "source": [
    "result_gurobi = solver_gurobi.solve()\n",
    "result_gurobi"
   ]
  },
  {
   "cell_type": "code",
   "execution_count": null,
   "id": "bed4dbe1",
   "metadata": {},
   "outputs": [],
   "source": [
    "result_gurobi_readable = solver_gurobi.generate_plan(result_gurobi, save_path=None)\n",
    "result_gurobi_readable"
   ]
  }
 ],
 "metadata": {
  "kernelspec": {
   "display_name": "amznoptim",
   "language": "python",
   "name": "python3"
  },
  "language_info": {
   "codemirror_mode": {
    "name": "ipython",
    "version": 3
   },
   "file_extension": ".py",
   "mimetype": "text/x-python",
   "name": "python",
   "nbconvert_exporter": "python",
   "pygments_lexer": "ipython3",
   "version": "3.12.10"
  }
 },
 "nbformat": 4,
 "nbformat_minor": 5
}
