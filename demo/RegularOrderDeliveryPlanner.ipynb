{
 "cells": [
  {
   "cell_type": "markdown",
   "id": "940eaa1e",
   "metadata": {},
   "source": [
    "# Local Delivery Planner for Amazon Regular Orders"
   ]
  },
  {
   "cell_type": "markdown",
   "id": "06a7453b",
   "metadata": {},
   "source": [
    "A sample notebook for generating local delivery plans of Amazon Regular Orders"
   ]
  },
  {
   "cell_type": "markdown",
   "id": "b51ea204",
   "metadata": {},
   "source": [
    "### Imports"
   ]
  },
  {
   "cell_type": "code",
   "execution_count": null,
   "id": "f62ad384",
   "metadata": {},
   "outputs": [],
   "source": [
    "import json\n",
    "import pandas as pd\n",
    "\n",
    "from amznoptim.solver.GurobiMIP import DepotVRPGurobiRegular\n",
    "from amznoptim.utils import preprocess"
   ]
  },
  {
   "cell_type": "markdown",
   "id": "39bfe512",
   "metadata": {},
   "source": [
    "### Input preparation"
   ]
  },
  {
   "cell_type": "code",
   "execution_count": null,
   "id": "e7443a34",
   "metadata": {},
   "outputs": [],
   "source": [
    "# Example order csv file\n",
    "order_csv = \"input_data/regular/orders.csv\"\n",
    "pd.read_csv(order_csv)"
   ]
  },
  {
   "cell_type": "code",
   "execution_count": null,
   "id": "51d353b9",
   "metadata": {},
   "outputs": [],
   "source": [
    "# Example depot info file\n",
    "depot_json = \"input_data/depot.json\"\n",
    "with open(depot_json, \"r\") as f:\n",
    "    depot_info = json.load(f)\n",
    "depot_info"
   ]
  },
  {
   "cell_type": "code",
   "execution_count": null,
   "id": "ceaa55c2",
   "metadata": {},
   "outputs": [],
   "source": [
    "# Example vehicle config json\n",
    "vehicle_json = \"config/vehicle_config.json\"\n",
    "# Example Google Map RouteMatrix json\n",
    "route_matrix_json = \"input_data/regular/gmap_matrix.json\"\n",
    "# Example Google Map Address Validation json\n",
    "address_validation_json = \"input_data/regular/gmap_validation.json\""
   ]
  },
  {
   "cell_type": "markdown",
   "id": "5984d5d7",
   "metadata": {},
   "source": [
    "### Solver data processing"
   ]
  },
  {
   "cell_type": "code",
   "execution_count": null,
   "id": "d45c1b00",
   "metadata": {},
   "outputs": [],
   "source": [
    "# Preprocess the order data csv and extract order and address info\n",
    "order_info, address_info = preprocess.regular_order_info_from_csv(\n",
    "    order_csv=order_csv, packaging_info_tsv=\"config/boxsize.tsv\"\n",
    ")\n",
    "order_info"
   ]
  },
  {
   "cell_type": "markdown",
   "id": "ad022e59",
   "metadata": {},
   "source": [
    "### Use Gurobi MIP Solver (May require Gurobi WLS License File)"
   ]
  },
  {
   "cell_type": "markdown",
   "id": "791d3ed6",
   "metadata": {},
   "source": [
    "For licensing, please visit https://www.gurobi.com/features/web-license-service/\n",
    "\n",
    "Alternatively, you can run Google OR-Tools CP-SAT solver below (slower than Gurobi)"
   ]
  },
  {
   "cell_type": "code",
   "execution_count": null,
   "id": "37c64996",
   "metadata": {},
   "outputs": [],
   "source": [
    "# Define the Gurobi solver and process the data\n",
    "solver = DepotVRPGurobiRegular(\n",
    "    order_data=order_info,\n",
    "    address_data=address_info,\n",
    "    depot_data=depot_info,\n",
    ")\n",
    "solver.process_data(\n",
    "    vehicle_data_path=vehicle_json,\n",
    "    route_matrix_json=route_matrix_json,\n",
    ")\n",
    "\n",
    "solver.set_stopping_time(\n",
    "    address_validation_json=address_validation_json\n",
    ")"
   ]
  },
  {
   "cell_type": "code",
   "execution_count": null,
   "id": "63342669",
   "metadata": {},
   "outputs": [],
   "source": [
    "# Optional: use your own Gurobi WSL license file\n",
    "# solver.use_licensed_environment('path/to/your/gurobi.lic')\n",
    "\n",
    "# Optional: you can set the solver runtime limit to get a feasible solution\n",
    "# solver.set_runtime_limit(300) # seconds"
   ]
  },
  {
   "cell_type": "markdown",
   "id": "347733b2",
   "metadata": {},
   "source": [
    "#### Run the solver"
   ]
  },
  {
   "cell_type": "code",
   "execution_count": null,
   "id": "c2510b5f",
   "metadata": {},
   "outputs": [],
   "source": [
    "result = solver.solve()\n",
    "result"
   ]
  },
  {
   "cell_type": "markdown",
   "id": "63f09e4e",
   "metadata": {},
   "source": [
    "#### Process the result to human-readable format"
   ]
  },
  {
   "cell_type": "code",
   "execution_count": null,
   "id": "bed4dbe1",
   "metadata": {},
   "outputs": [],
   "source": [
    "plan_readable = solver.generate_plan(result, save_path=None)\n",
    "plan_readable"
   ]
  },
  {
   "cell_type": "markdown",
   "id": "b93c61f2",
   "metadata": {},
   "source": [
    "### Alternative: Use CP-SAT solver (Deprecated)\n"
   ]
  },
  {
   "cell_type": "code",
   "execution_count": null,
   "id": "3e79397c",
   "metadata": {},
   "outputs": [],
   "source": [
    "from amznoptim.solver.CpSAT import DepotVRPCpRegular\n",
    "\n",
    "# Define the CP-SAT solver and process the data\n",
    "solver = DepotVRPCpRegular(\n",
    "    order_data=order_info,\n",
    "    address_data=address_info,\n",
    "    depot_data=depot_info,\n",
    ")\n",
    "solver.process_data(\n",
    "    vehicle_data_path=vehicle_json,\n",
    "    route_matrix_json=route_matrix_json,\n",
    ")\n",
    "solver.set_stopping_time(\n",
    "    address_validation_json=address_validation_json\n",
    ")"
   ]
  },
  {
   "cell_type": "markdown",
   "id": "c92a54cd",
   "metadata": {},
   "source": [
    "#### Run the solver"
   ]
  },
  {
   "cell_type": "code",
   "execution_count": null,
   "id": "f6333db8",
   "metadata": {},
   "outputs": [],
   "source": [
    "result = solver.solve()\n",
    "result"
   ]
  },
  {
   "cell_type": "markdown",
   "id": "907c3370",
   "metadata": {},
   "source": [
    "#### Process the result to human-readable format"
   ]
  },
  {
   "cell_type": "code",
   "execution_count": null,
   "id": "dc9b93b5",
   "metadata": {},
   "outputs": [],
   "source": [
    "result_readable = solver.generate_plan(result, save_path=None)\n",
    "result_readable"
   ]
  },
  {
   "cell_type": "code",
   "execution_count": null,
   "id": "8b24a1e6",
   "metadata": {},
   "outputs": [],
   "source": []
  }
 ],
 "metadata": {
  "kernelspec": {
   "display_name": "amznoptim",
   "language": "python",
   "name": "python3"
  },
  "language_info": {
   "codemirror_mode": {
    "name": "ipython",
    "version": 3
   },
   "file_extension": ".py",
   "mimetype": "text/x-python",
   "name": "python",
   "nbconvert_exporter": "python",
   "pygments_lexer": "ipython3",
   "version": "3.12.10"
  }
 },
 "nbformat": 4,
 "nbformat_minor": 5
}
