{
 "cells": [
  {
   "cell_type": "markdown",
   "id": "940eaa1e",
   "metadata": {},
   "source": [
    "# Local Delivery Planner for Amazon Fresh Orders"
   ]
  },
  {
   "cell_type": "markdown",
   "id": "06a7453b",
   "metadata": {},
   "source": [
    "A sample notebook for generating local delivery plans of Amazon Fresh Orders"
   ]
  },
  {
   "cell_type": "markdown",
   "id": "b51ea204",
   "metadata": {},
   "source": [
    "### Imports"
   ]
  },
  {
   "cell_type": "code",
   "execution_count": null,
   "id": "f62ad384",
   "metadata": {},
   "outputs": [],
   "source": [
    "import json\n",
    "\n",
    "import numpy as np\n",
    "import pandas as pd\n",
    "\n",
    "from amznoptim.solver.GurobiMIP import DepotVRPGurobiFresh\n",
    "from amznoptim.utils import preprocess"
   ]
  },
  {
   "cell_type": "markdown",
   "id": "39bfe512",
   "metadata": {},
   "source": [
    "### Input preparation"
   ]
  },
  {
   "cell_type": "code",
   "execution_count": null,
   "id": "9c2b67a6",
   "metadata": {},
   "outputs": [],
   "source": [
    "# Helper function to regenerate delivery windows for demo\n",
    "def regenerate_delivery_windows(orders):\n",
    "    rng = np.random.default_rng()\n",
    "    now = pd.Timestamp.now()\n",
    "    start_time_max = now + pd.Timedelta(hours=4)\n",
    "    start_time_min = now + pd.Timedelta(hours=0.2)\n",
    "    for order in orders:\n",
    "        start_timestamp = rng.integers(\n",
    "            start_time_min.value, start_time_max.value\n",
    "        )\n",
    "        start_timestamp_pd = pd.Timestamp(start_timestamp)\n",
    "        end_timestamp_pd = start_timestamp_pd + pd.Timedelta(\n",
    "            hours=rng.integers(1, 3)\n",
    "        )\n",
    "        order[\"delivery_window_start\"] = start_timestamp_pd.value\n",
    "        order[\"delivery_window_end\"] = end_timestamp_pd.value\n",
    "\n",
    "    return orders\n",
    "\n"
   ]
  },
  {
   "cell_type": "code",
   "execution_count": null,
   "id": "e7443a34",
   "metadata": {},
   "outputs": [],
   "source": [
    "# Example order csv file\n",
    "order_csv = \"input_data/fresh/orders.csv\"\n",
    "pd.read_csv(order_csv)"
   ]
  },
  {
   "cell_type": "code",
   "execution_count": null,
   "id": "51d353b9",
   "metadata": {},
   "outputs": [],
   "source": [
    "# Example depot info file\n",
    "depot_json = \"input_data/depot.json\"\n",
    "with open(depot_json, \"r\") as f:\n",
    "    depot_info = json.load(f)\n",
    "depot_info"
   ]
  },
  {
   "cell_type": "code",
   "execution_count": null,
   "id": "ceaa55c2",
   "metadata": {},
   "outputs": [],
   "source": [
    "# Example vehicle config json\n",
    "vehicle_json = \"config/vehicle_config.json\"\n",
    "# Example Google Map RouteMatrix json\n",
    "route_matrix_json = \"input_data/fresh/gmap_matrix.json\"\n",
    "# Example Google Map Address Validation json\n",
    "address_validation_json = \"input_data/fresh/gmap_validation.json\""
   ]
  },
  {
   "cell_type": "markdown",
   "id": "5984d5d7",
   "metadata": {},
   "source": [
    "### Solver data processing"
   ]
  },
  {
   "cell_type": "code",
   "execution_count": null,
   "id": "d45c1b00",
   "metadata": {},
   "outputs": [],
   "source": [
    "# Preprocess the order data csv and extract order and address info\n",
    "order_info, address_info = preprocess.sameday_order_info_from_csv(order_csv)\n",
    "\n",
    "# Regenerate delivery windows for orders\n",
    "order_info = regenerate_delivery_windows(order_info)\n",
    "order_info"
   ]
  },
  {
   "cell_type": "markdown",
   "id": "ad022e59",
   "metadata": {},
   "source": [
    "### Use Gurobi MIP Solver (May require Gurobi WLS License File)"
   ]
  },
  {
   "cell_type": "markdown",
   "id": "791d3ed6",
   "metadata": {},
   "source": [
    "For licensing, please visit https://www.gurobi.com/features/web-license-service/\n",
    "\n",
    "Alternatively, you can run Google OR-Tools CP-SAT solver below (slower than Gurobi)"
   ]
  },
  {
   "cell_type": "code",
   "execution_count": null,
   "id": "37c64996",
   "metadata": {},
   "outputs": [],
   "source": [
    "# Define the Gurobi solver and process the data\n",
    "solver = DepotVRPGurobiFresh(\n",
    "    depot_data=depot_info,\n",
    "    order_data=order_info,\n",
    "    address_data=address_info,\n",
    ")\n",
    "\n",
    "solver.process_data(\n",
    "    vehicle_data_path=vehicle_json,\n",
    "    route_matrix_json=route_matrix_json,\n",
    ")\n",
    "\n",
    "solver.set_stopping_time(\n",
    "    address_validation_json=address_validation_json\n",
    ")"
   ]
  },
  {
   "cell_type": "code",
   "execution_count": null,
   "id": "7d21edf5",
   "metadata": {},
   "outputs": [],
   "source": [
    "# Optional: use your own Gurobi WSL license file\n",
    "# solver.use_licensed_environment('path/to/your/gurobi.lic')\n",
    "\n",
    "# The fresh order delivery optimization problem has larger constraint space,\n",
    "# so it may take longer to solve than the standard depot VRP.\n",
    "# Optional: you can set the solver runtime limit to get a feasible solution\n",
    "# solver.set_runtime_limit(300) # seconds"
   ]
  },
  {
   "cell_type": "markdown",
   "id": "347733b2",
   "metadata": {},
   "source": [
    "#### Run the solver"
   ]
  },
  {
   "cell_type": "code",
   "execution_count": null,
   "id": "c2510b5f",
   "metadata": {},
   "outputs": [],
   "source": [
    "result = solver.solve()\n",
    "result"
   ]
  },
  {
   "cell_type": "markdown",
   "id": "63f09e4e",
   "metadata": {},
   "source": [
    "#### Process the result to human-readable format"
   ]
  },
  {
   "cell_type": "code",
   "execution_count": null,
   "id": "bed4dbe1",
   "metadata": {},
   "outputs": [],
   "source": [
    "plan_readable = solver.generate_plan(result, save_path=None)\n",
    "plan_readable"
   ]
  },
  {
   "cell_type": "code",
   "execution_count": null,
   "id": "8b24a1e6",
   "metadata": {},
   "outputs": [],
   "source": []
  }
 ],
 "metadata": {
  "kernelspec": {
   "display_name": "amznoptim",
   "language": "python",
   "name": "python3"
  },
  "language_info": {
   "codemirror_mode": {
    "name": "ipython",
    "version": 3
   },
   "file_extension": ".py",
   "mimetype": "text/x-python",
   "name": "python",
   "nbconvert_exporter": "python",
   "pygments_lexer": "ipython3",
   "version": "3.12.10"
  }
 },
 "nbformat": 4,
 "nbformat_minor": 5
}
